{
 "cells": [
  {
   "cell_type": "code",
   "execution_count": 2,
   "metadata": {},
   "outputs": [
    {
     "name": "stderr",
     "output_type": "stream",
     "text": [
      "/opt/miniconda3/envs/ml_project_2/lib/python3.10/site-packages/tqdm/auto.py:22: TqdmWarning: IProgress not found. Please update jupyter and ipywidgets. See https://ipywidgets.readthedocs.io/en/stable/user_install.html\n",
      "  from .autonotebook import tqdm as notebook_tqdm\n"
     ]
    }
   ],
   "source": [
    "import torch\n",
    "import numpy as np\n",
    "import pandas as pd\n",
    "import matplotlib.pyplot as plt\n",
    "\n",
    "DATA_FOLDER = 'data/'"
   ]
  },
  {
   "cell_type": "code",
   "execution_count": 2,
   "metadata": {},
   "outputs": [],
   "source": [
    "train_input, train_target = torch.load(DATA_FOLDER + 'train_data.pkl')\n",
    "val_input, val_target = torch.load(DATA_FOLDER + 'val_data.pkl')"
   ]
  },
  {
   "cell_type": "code",
   "execution_count": 32,
   "metadata": {},
   "outputs": [],
   "source": [
    "df = pd.read_csv(DATA_FOLDER + 'BTC-USD.csv')\n",
    "df.drop(columns=['Open', 'High', 'Low', 'Close', 'Volume'], inplace=True)\n",
    "df['Date'] = pd.to_datetime(df['Date'])\n",
    "\n",
    "df['log_return'] = np.log(df['Adj Close']/df['Adj Close'].shift(-1))\n",
    "df.drop(columns='Adj Close', inplace=True)\n",
    "df.dropna(inplace=True)"
   ]
  },
  {
   "cell_type": "code",
   "execution_count": 44,
   "metadata": {},
   "outputs": [
    {
     "data": {
      "text/html": [
       "<div>\n",
       "<style scoped>\n",
       "    .dataframe tbody tr th:only-of-type {\n",
       "        vertical-align: middle;\n",
       "    }\n",
       "\n",
       "    .dataframe tbody tr th {\n",
       "        vertical-align: top;\n",
       "    }\n",
       "\n",
       "    .dataframe thead th {\n",
       "        text-align: right;\n",
       "    }\n",
       "</style>\n",
       "<table border=\"1\" class=\"dataframe\">\n",
       "  <thead>\n",
       "    <tr style=\"text-align: right;\">\n",
       "      <th></th>\n",
       "      <th>Date</th>\n",
       "      <th>Adj Close</th>\n",
       "      <th>log_return</th>\n",
       "    </tr>\n",
       "  </thead>\n",
       "  <tbody>\n",
       "    <tr>\n",
       "      <th>0</th>\n",
       "      <td>2014-09-17</td>\n",
       "      <td>457.334015</td>\n",
       "      <td>0.074643</td>\n",
       "    </tr>\n",
       "    <tr>\n",
       "      <th>1</th>\n",
       "      <td>2014-09-18</td>\n",
       "      <td>424.440002</td>\n",
       "      <td>0.072402</td>\n",
       "    </tr>\n",
       "    <tr>\n",
       "      <th>2</th>\n",
       "      <td>2014-09-19</td>\n",
       "      <td>394.795990</td>\n",
       "      <td>-0.035111</td>\n",
       "    </tr>\n",
       "    <tr>\n",
       "      <th>3</th>\n",
       "      <td>2014-09-20</td>\n",
       "      <td>408.903992</td>\n",
       "      <td>0.024968</td>\n",
       "    </tr>\n",
       "    <tr>\n",
       "      <th>4</th>\n",
       "      <td>2014-09-21</td>\n",
       "      <td>398.821014</td>\n",
       "      <td>-0.008317</td>\n",
       "    </tr>\n",
       "    <tr>\n",
       "      <th>...</th>\n",
       "      <td>...</td>\n",
       "      <td>...</td>\n",
       "      <td>...</td>\n",
       "    </tr>\n",
       "    <tr>\n",
       "      <th>1572</th>\n",
       "      <td>2019-01-06</td>\n",
       "      <td>4076.632568</td>\n",
       "      <td>0.012685</td>\n",
       "    </tr>\n",
       "    <tr>\n",
       "      <th>1573</th>\n",
       "      <td>2019-01-07</td>\n",
       "      <td>4025.248291</td>\n",
       "      <td>-0.001390</td>\n",
       "    </tr>\n",
       "    <tr>\n",
       "      <th>1574</th>\n",
       "      <td>2019-01-08</td>\n",
       "      <td>4030.847900</td>\n",
       "      <td>-0.001103</td>\n",
       "    </tr>\n",
       "    <tr>\n",
       "      <th>1575</th>\n",
       "      <td>2019-01-09</td>\n",
       "      <td>4035.296387</td>\n",
       "      <td>0.092459</td>\n",
       "    </tr>\n",
       "    <tr>\n",
       "      <th>1576</th>\n",
       "      <td>2019-01-10</td>\n",
       "      <td>3678.924561</td>\n",
       "      <td>NaN</td>\n",
       "    </tr>\n",
       "  </tbody>\n",
       "</table>\n",
       "<p>1577 rows × 3 columns</p>\n",
       "</div>"
      ],
      "text/plain": [
       "           Date    Adj Close  log_return\n",
       "0    2014-09-17   457.334015    0.074643\n",
       "1    2014-09-18   424.440002    0.072402\n",
       "2    2014-09-19   394.795990   -0.035111\n",
       "3    2014-09-20   408.903992    0.024968\n",
       "4    2014-09-21   398.821014   -0.008317\n",
       "...         ...          ...         ...\n",
       "1572 2019-01-06  4076.632568    0.012685\n",
       "1573 2019-01-07  4025.248291   -0.001390\n",
       "1574 2019-01-08  4030.847900   -0.001103\n",
       "1575 2019-01-09  4035.296387    0.092459\n",
       "1576 2019-01-10  3678.924561         NaN\n",
       "\n",
       "[1577 rows x 3 columns]"
      ]
     },
     "execution_count": 44,
     "metadata": {},
     "output_type": "execute_result"
    }
   ],
   "source": [
    "df"
   ]
  },
  {
   "cell_type": "code",
   "execution_count": 33,
   "metadata": {},
   "outputs": [
    {
     "ename": "NameError",
     "evalue": "name 'train_target' is not defined",
     "output_type": "error",
     "traceback": [
      "\u001b[0;31m---------------------------------------------------------------------------\u001b[0m",
      "\u001b[0;31mNameError\u001b[0m                                 Traceback (most recent call last)",
      "Cell \u001b[0;32mIn [33], line 1\u001b[0m\n\u001b[0;32m----> 1\u001b[0m plt\u001b[39m.\u001b[39mplot(torch\u001b[39m.\u001b[39mcat((train_target, val_target))[\u001b[39m-\u001b[39m\u001b[39m100\u001b[39m:])\n\u001b[1;32m      2\u001b[0m plt\u001b[39m.\u001b[39mplot(df[\u001b[39m'\u001b[39m\u001b[39mlog_return\u001b[39m\u001b[39m'\u001b[39m]\u001b[39m.\u001b[39mshift(\u001b[39m0\u001b[39m)\u001b[39m.\u001b[39miloc[\u001b[39m-\u001b[39m\u001b[39m100\u001b[39m:]\u001b[39m.\u001b[39mreset_index(drop\u001b[39m=\u001b[39m\u001b[39mTrue\u001b[39;00m))\n\u001b[1;32m      3\u001b[0m plt\u001b[39m.\u001b[39mshow()\n",
      "\u001b[0;31mNameError\u001b[0m: name 'train_target' is not defined"
     ]
    }
   ],
   "source": [
    "plt.plot(torch.cat((train_target, val_target))[-100:])\n",
    "plt.plot(df['log_return'].shift(0).iloc[-100:].reset_index(drop=True))\n",
    "plt.show()"
   ]
  },
  {
   "cell_type": "code",
   "execution_count": 34,
   "metadata": {},
   "outputs": [],
   "source": [
    "df = pd.read_csv(DATA_FOLDER + 'BTC-USD.csv')\n",
    "df.drop(columns=['Open', 'High', 'Low', 'Close', 'Volume'], inplace=True)\n",
    "df['Date'] = pd.to_datetime(df['Date'])\n",
    "\n",
    "df['log_return'] = np.log(df['Adj Close']/df['Adj Close'].shift(-1))\n",
    "# df.drop(columns='Adj Close', inplace=True)\n",
    "# df.dropna(inplace=True)"
   ]
  },
  {
   "cell_type": "code",
   "execution_count": 36,
   "metadata": {},
   "outputs": [
    {
     "data": {
      "text/plain": [
       "[<matplotlib.lines.Line2D at 0x1691c1c30>]"
      ]
     },
     "execution_count": 36,
     "metadata": {},
     "output_type": "execute_result"
    },
    {
     "data": {
      "image/png": "[encoded data removed]",
      "text/plain": [
       "<Figure size 1500x500 with 1 Axes>"
      ]
     },
     "metadata": {},
     "output_type": "display_data"
    }
   ],
   "source": [
    "fig = plt.figure(figsize=(15,5))\n",
    "plt.plot(df['Adj Close'])"
   ]
  },
  {
   "cell_type": "code",
   "execution_count": 122,
   "metadata": {},
   "outputs": [],
   "source": [
    "import torch\n",
    "import quandl\n",
    "import pandas as pd\n",
    "import numpy as np\n",
    "\n",
    "DATA_FOLDER = '../data/'\n",
    "\n",
    "\n",
    "def load_data(path):\n",
    "    # df = pd.read_csv(path)\n",
    "    # df.drop(columns=['Open', 'High', 'Low', 'Close', 'Volume'], inplace=True)\n",
    "    # df['Date'] = pd.to_datetime(df['Date'])\n",
    "\n",
    "    # df['log_return'] = np.log(df['Adj Close']/df['Adj Close'].shift(-1))\n",
    "    # df.drop(columns='Adj Close', inplace=True)\n",
    "    #df.replace([np.inf, -np.inf], np.nan, inplace=True)\n",
    "    # df.dropna(inplace=True)\n",
    "    \n",
    "    df = quandl.get(\"BCHARTS/BITSTAMPUSD\", start_date=\"2014-04-15\", end_date=\"2019-01-10\")\n",
    "    df['log_return'] = np.log(df['Weighted Price']/df['Weighted Price'].shift(-1))\n",
    "    df.replace([np.inf, -np.inf], np.nan, inplace=True)\n",
    "    df.dropna(inplace=True)\n",
    "    return df\n",
    "\n",
    "\n",
    "def split_data(df, train_ratio):\n",
    "    # date = df['Date'].iloc[int(train_ratio*len(df))]\n",
    "    # train_period = (df['Date'] < date)\n",
    "    # val_period = (df['Date'] >= date)\n",
    "\n",
    "    # df_train = df.loc[train_period]\n",
    "    # df_val = df.loc[val_period]\n",
    "    \n",
    "    train_ratio = 0.5\n",
    "    date = df.index[int(train_ratio*len(df))]\n",
    "    train_period = (df.index < date)\n",
    "    val_period = (df.index >= date)\n",
    "\n",
    "    df_train = df.loc[train_period]\n",
    "    df_val = df.loc[val_period]\n",
    "    return df_train, df_val\n",
    "\n",
    "\n",
    "def create_sequences(df, nb_lags):\n",
    "    sequences = torch.empty((len(df)-nb_lags, nb_lags))\n",
    "    targets = torch.empty(len(df)-nb_lags)\n",
    "    \n",
    "    for i in range(len(df)-nb_lags):\n",
    "        sequences[i,:] = torch.tensor(df['log_return'].iloc[i:i+nb_lags].values)\n",
    "        targets[i] = torch.tensor(df['log_return'].iloc[i+nb_lags])\n",
    "    \n",
    "    return sequences, targets"
   ]
  },
  {
   "cell_type": "code",
   "execution_count": 123,
   "metadata": {},
   "outputs": [
    {
     "name": "stderr",
     "output_type": "stream",
     "text": [
      "/opt/miniconda3/envs/ml_project_2/lib/python3.10/site-packages/pandas/core/arraylike.py:402: RuntimeWarning: divide by zero encountered in log\n",
      "  result = getattr(ufunc, method)(*inputs, **kwargs)\n"
     ]
    }
   ],
   "source": [
    "df = load_data(DATA_FOLDER + 'BTC-USD.csv')\n",
    "df_train, df_val = split_data(df, train_ratio=0.5)\n",
    "train_input, train_target = create_sequences(df_train, nb_lags=6)\n",
    "val_input, val_target = create_sequences(df_val, nb_lags=6)"
   ]
  },
  {
   "cell_type": "code",
   "execution_count": 125,
   "metadata": {},
   "outputs": [],
   "source": [
    "import torch\n",
    "from torch import nn, optim\n",
    "from torch.nn import functional as F\n",
    "from tqdm import tqdm\n",
    "#from pathlib import Path\n",
    "\n",
    "\n",
    "class Model(nn.Module):\n",
    "    def __init__(self, nb_lags, lr):\n",
    "        # instantiate model + optimizer + loss function \n",
    "        super(Model, self).__init__()\n",
    "        self.layer1 = nn.Linear(in_features=nb_lags, out_features=6)\n",
    "        self.layer2 = nn.Linear(in_features=6, out_features=3)\n",
    "        self.layer3 = nn.Linear(in_features=3, out_features=1)\n",
    "        \n",
    "        self.optimizer = optim.Rprop(self.parameters(), lr=lr)\n",
    "        #self.scheduler = optim.lr_scheduler.ReduceLROnPlateau(self.optimizer, 'min')\n",
    "        self.criterion = nn.MSELoss(reduction='sum')\n",
    "\n",
    "        self.device = torch.device(\"cuda\" if torch.cuda.is_available() else \"cpu\")\n",
    "        self.to(self.device)  \n",
    "    \n",
    "    def forward(self, x):\n",
    "        x = torch.sigmoid(self.layer1(x))\n",
    "        x = torch.sigmoid(self.layer2(x))\n",
    "        x = self.layer3(x)\n",
    "        return x.view(-1)\n",
    "    \n",
    "    def train(self, train_input, train_target, num_epochs, mini_batch_size):\n",
    "            # train_input : tensor of size (N, D) where D is the numbers of lags used to forecast\n",
    "            # train_target : tensor of size (N)\n",
    "\n",
    "            train_losses = []\n",
    "            lr_history = []\n",
    "            for e in tqdm(range(num_epochs), desc='Training model', unit=' epoch'):\n",
    "                epoch_loss = 0\n",
    "                #shuffled_idx = torch.randperm(train_input.size(0))\n",
    "                #train_input = train_input[shuffled_idx,:]\n",
    "                #train_target = train_target[shuffled_idx]\n",
    "                \n",
    "                #for b in range(0, mini_batch_size*int(train_input.size(0)/mini_batch_size), mini_batch_size):\n",
    "                    #output = self(train_input.narrow(0, b, mini_batch_size))\n",
    "                    #loss = self.criterion(output, train_target.narrow(0, b, mini_batch_size))\n",
    "                    #epoch_loss += loss.item()\n",
    "                    #self.optimizer.zero_grad()\n",
    "                    #loss.backward()\n",
    "                    #self.optimizer.step()\n",
    "                \n",
    "                output = self(train_input)\n",
    "                loss = self.criterion(output, train_target)\n",
    "                self.optimizer.zero_grad()\n",
    "                loss.backward()\n",
    "                self.optimizer.step()\n",
    "\n",
    "                #self.scheduler.step(epoch_loss)\n",
    "                #print(\"Epoch {}: Loss {}\".format(e, epoch_loss))\n",
    "                train_losses.append(loss.item())\n",
    "                #lr_history.append(self.get_lr())\n",
    "            \n",
    "            self.train_losses = train_losses\n",
    "            #self.lr_history = lr_history\n",
    "\n",
    "    def test(self, val_input, val_target):\n",
    "        output = self(val_input)\n",
    "        positive_forecast = output > 0\n",
    "\n",
    "        #rate = output.sign().eq(val_target.sign()).sum() / val_target.size(0)\n",
    "        self.hit_rate = output[positive_forecast].sign().eq(val_target[positive_forecast].sign()).sum() / positive_forecast.sum()\n",
    "\n",
    "\n",
    "    #def get_lr(self):\n",
    "        #for param_group in self.optimizer.param_groups:\n",
    "            #return param_group['lr']\n",
    "      \n",
    "    # def predict(self, test_input):\n",
    "    #     test_output = self(test_input)\n",
    "    #     return test_output"
   ]
  },
  {
   "cell_type": "code",
   "execution_count": 126,
   "metadata": {},
   "outputs": [
    {
     "name": "stderr",
     "output_type": "stream",
     "text": [
      "Training model: 100%|██████████| 1000/1000 [00:00<00:00, 2676.22 epoch/s]\n"
     ]
    },
    {
     "data": {
      "image/png": "[encoded data removed]",
      "text/plain": [
       "<Figure size 640x480 with 1 Axes>"
      ]
     },
     "metadata": {},
     "output_type": "display_data"
    }
   ],
   "source": [
    "model = Model(nb_lags=6, lr=1e-2)\n",
    "\n",
    "# ######################### Load training data: #########################\n",
    "# train_input, train_target = torch.load(DATA_FOLDER + 'train_data.pkl')\n",
    "# train_input, train_target = train_input.to(model.device), train_target.to(model.device)\n",
    "\n",
    "# ######################### Load validation data: #########################\n",
    "# val_input, val_target = torch.load(DATA_FOLDER + 'val_data.pkl')\n",
    "# val_input, val_target = val_input.to(model.device), val_target.to(model.device)\n",
    "\n",
    "# Standardize:\n",
    "mean = train_target.mean().item()\n",
    "std = train_target.std().item()\n",
    "min_ = train_target.min()\n",
    "max_ = train_target.max()\n",
    "\n",
    "# train_input = (train_input-mean)/std\n",
    "# train_target = (train_target-mean)/std\n",
    "# val_input = (val_input-mean)/std\n",
    "# val_target = (val_target-mean)/std\n",
    "\n",
    "######################### Training: #########################\n",
    "train = True\n",
    "if train:\n",
    "    losses = model.train(train_input, train_target, num_epochs=1000, mini_batch_size=100)\n",
    "    torch.save(model, 'models/bestmodel.pth')\n",
    "\n",
    "######################### Validation: #########################\n",
    "model = torch.load('models/bestmodel.pth')\n",
    "model.test(val_input, val_target)\n",
    "\n",
    "######################### Plot training loss: #########################\n",
    "plt.plot(model.train_losses)\n",
    "plt.show()"
   ]
  }
 ],
 "metadata": {
  "kernelspec": {
   "display_name": "Python 3.10.8 ('ml_project_2')",
   "language": "python",
   "name": "python3"
  },
  "language_info": {
   "codemirror_mode": {
    "name": "ipython",
    "version": 3
   },
   "file_extension": ".py",
   "mimetype": "text/x-python",
   "name": "python",
   "nbconvert_exporter": "python",
   "pygments_lexer": "ipython3",
   "version": "3.10.8"
  },
  "orig_nbformat": 4,
  "vscode": {
   "interpreter": {
    "hash": "94125b2d166931d3a4c057fefaa03f6c49ecf1b93681a8c8c2a73556b15684c9"
   }
  }
 },
 "nbformat": 4,
 "nbformat_minor": 2
}
