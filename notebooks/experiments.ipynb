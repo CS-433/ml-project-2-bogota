{
 "cells": [
  {
   "cell_type": "code",
   "execution_count": null,
   "metadata": {},
   "outputs": [],
   "source": [
    "import sys\n",
    "sys.path.append('../src')\n",
    "\n",
    "import numpy as np\n",
    "import matplotlib.pyplot as plt\n",
    "from src.models import Ensemble, RandomForest\n",
    "from src.test import load_processed_data, load_pretrained_model, load_best_params\n",
    "\n",
    "DATASET = 'NYMEX-NG'"
   ]
  },
  {
   "cell_type": "code",
   "execution_count": null,
   "metadata": {},
   "outputs": [
    {
     "ename": "",
     "evalue": "",
     "output_type": "error",
     "traceback": [
      "\u001b[1;31mRunning cells with 'ml_project_finance' requires ipykernel package.\n",
      "\u001b[1;31mRun the following command to install 'ipykernel' into the Python environment. \n",
      "\u001b[1;31mCommand: 'conda install -n ml_project_finance ipykernel --update-deps --force-reinstall'"
     ]
    }
   ],
   "source": [
    "class MixedTypeEnsemble(Ensemble):\n",
    "    def __init__(self, model_type, train_lags, train_target):\n",
    "        for model_type in ['NN', 'CNN', 'LSTM', 'RandomForest']:\n",
    "            if model_type in ['NN', 'CNN', 'LSTM']:\n",
    "                model = load_pretrained_model(model_type, DATASET)\n",
    "            else:\n",
    "                # Load best para mmax_features:\n",
    "                _, param = load_best_params(model_type, DATASET)\n",
    "                model = RandomForest(n_estimators=10000, random_state=0, max_features=param)\n",
    "                model.train(train_lags, train_target)"
   ]
  },
  {
   "cell_type": "code",
   "execution_count": null,
   "metadata": {},
   "outputs": [],
   "source": [
    "train_lags, train_target, train_dates = load_processed_data(DATASET, partition='train')\n",
    "val_lags, val_target, val_dates = load_processed_data(DATASET, partition='val')\n",
    "test_lags, test_target, test_dates = load_processed_data(DATASET, partition='test')\n",
    "\n",
    "\n",
    "\n",
    "# Define number of periods per year to compute performance metrics:\n",
    "if DATASET in ['BTC-USD', 'ETH-USD', 'XRP-USD']:\n",
    "    n_periods = 365\n",
    "else:\n",
    "    n_periods = 252\n",
    "\n",
    "# Plot cumulative sum of model's log-returns:\n",
    "fig = plt.figure(figsize=(9, 6))\n",
    "fig.suptitle('Performances of {} on {}'.format(model_type, dataset), fontsize=14)\n",
    "plt.subplots_adjust(wspace= 0.25, hspace= 0.25)\n",
    "\n",
    "sub1 = fig.add_subplot(2,2,(1,2))\n",
    "model.test(train_lags, train_target, n_periods)\n",
    "sub1.plot(train_dates, np.cumsum(model.log_returns))\n",
    "sub1.plot(train_dates, np.cumsum(train_target.to('cpu')))\n",
    "sub1.grid(True)\n",
    "sub1.set_ylabel('Cumulated log-performances')\n",
    "sub1.set_title('Train set')\n",
    "sub1.legend([model_type, 'Baseline'], loc=\"upper left\")\n",
    "\n",
    "sub2 = fig.add_subplot(2,2,3)\n",
    "model.test(val_lags, val_target, n_periods)\n",
    "sub2.plot(val_dates, np.cumsum(model.log_returns))\n",
    "sub2.plot(val_dates, np.cumsum(val_target).to('cpu'))\n",
    "sub2.tick_params(labelrotation=45)\n",
    "sub2.grid(True)\n",
    "sub2.set_ylabel('Cumulated log-performances')\n",
    "sub2.set_title('Validation set')\n",
    "\n",
    "sub3 = fig.add_subplot(2,2,4)\n",
    "model.test(test_lags, test_target, n_periods)\n",
    "sub3.plot(test_dates, np.cumsum(model.log_returns))\n",
    "sub3.plot(test_dates, np.cumsum(test_target.to('cpu')))\n",
    "sub3.tick_params(labelrotation=45)\n",
    "sub3.grid(True)\n",
    "sub3.set_title('Test set')\n",
    "\n",
    "plt.show()"
   ]
  }
 ],
 "metadata": {
  "kernelspec": {
   "display_name": "ml_project_finance",
   "language": "python",
   "name": "python3"
  },
  "language_info": {
   "name": "python",
   "version": "3.10.8 | packaged by conda-forge | (main, Nov 22 2022, 08:25:29) [Clang 14.0.6 ]"
  },
  "orig_nbformat": 4,
  "vscode": {
   "interpreter": {
    "hash": "9b122b5f926bd79e7f0ee0e29aba8eb4c5cb49d416841110354c8050afe4fd2d"
   }
  }
 },
 "nbformat": 4,
 "nbformat_minor": 2
}
