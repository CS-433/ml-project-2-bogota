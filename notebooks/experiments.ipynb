{
 "cells": [
  {
   "cell_type": "code",
   "execution_count": 106,
   "metadata": {},
   "outputs": [],
   "source": [
    "import sys\n",
    "sys.path.append('../')\n",
    "\n",
    "import torch\n",
    "import numpy as np\n",
    "import pandas as pd\n",
    "import matplotlib.pyplot as plt\n",
    "from src.models import Ensemble, RandomForest\n",
    "from src.test import load_processed_data, load_pretrained_model, load_best_params\n",
    "\n",
    "DATASET = 'BTC-USD'\n",
    "N_PERIODS = 252"
   ]
  },
  {
   "attachments": {},
   "cell_type": "markdown",
   "metadata": {},
   "source": [
    "## Buy-hold performances:"
   ]
  },
  {
   "cell_type": "code",
   "execution_count": 61,
   "metadata": {},
   "outputs": [],
   "source": [
    "def compute_hit_rate(log_returns):\n",
    "    hit_position = log_returns >= 0\n",
    "    return (hit_position.sum() / len(hit_position)).item()\n",
    "\n",
    "\n",
    "def compute_sharpe(log_returns, n_periods):\n",
    "    log_returns = pd.Series(log_returns)\n",
    "    mean = log_returns.mean()\n",
    "    std = log_returns.std()\n",
    "    return (n_periods * mean) / (std * np.sqrt(n_periods))\n",
    "\n",
    "\n",
    "def compute_max_drawdown(log_returns):\n",
    "    returns = pd.Series(np.exp(log_returns) - 1)\n",
    "    cumulative = (returns + 1).cumprod()\n",
    "    peak = cumulative.expanding(min_periods=1).max()\n",
    "    dd = (cumulative / peak) - 1\n",
    "    return dd.abs().max()"
   ]
  },
  {
   "cell_type": "code",
   "execution_count": 103,
   "metadata": {},
   "outputs": [
    {
     "name": "stdout",
     "output_type": "stream",
     "text": [
      "Buy-Hold stratedy on SMI test set achieves:\n",
      "     Hit-rate: 0.535\n",
      "     Annualized sharpe ratio: 0.219\n",
      "     Max drawdown: 0.224\n"
     ]
    }
   ],
   "source": [
    "_, test_target, _ = load_processed_data(DATASET, partition='test')\n",
    "\n",
    "# Print buy-hold performances on the test set:\n",
    "print('Buy-Hold stratedy on {} test set achieves:'.format(DATASET))\n",
    "print('     Hit-rate: {:.3f}'.format(compute_hit_rate(test_target)))\n",
    "print('     Annualized sharpe ratio: {:.3f}'.format(compute_sharpe(test_target, N_PERIODS)))\n",
    "print('     Max drawdown: {:.3f}'.format(compute_max_drawdown(test_target)))"
   ]
  },
  {
   "attachments": {},
   "cell_type": "markdown",
   "metadata": {},
   "source": [
    "## Mix model of different type trained on the same asset"
   ]
  },
  {
   "cell_type": "code",
   "execution_count": 111,
   "metadata": {},
   "outputs": [],
   "source": [
    "class MixedTypeEnsemble(Ensemble):\n",
    "    def __init__(self, train_lags, train_target):\n",
    "        self.nb_models = 4\n",
    "        self.nb_lags = train_lags.shape[1]\n",
    "        self.device = 'cpu'\n",
    "        \n",
    "        self.models = []\n",
    "        for model_type in ['NN', 'CNN', 'LSTM', 'RandomForest']:\n",
    "            if model_type in ['NN', 'CNN', 'LSTM']:\n",
    "                model = load_pretrained_model(model_type, DATASET)\n",
    "            else:\n",
    "                # Load best para mmax_features:\n",
    "                _, param = load_best_params(model_type, DATASET)\n",
    "                model = RandomForest(n_estimators=10000, random_state=0, max_features=param)\n",
    "                model.train(train_lags, train_target)\n",
    "            self.models.append(model)\n",
    "\n",
    "    def forecast(self, lags):\n",
    "        median_forecast = torch.zeros((lags.shape[0], self.nb_models))\n",
    "        for i in range(self.nb_models-1):\n",
    "            median_forecast[:,i] = self.models[i].forecast(lags).detach()\n",
    "        median_forecast[:,-1] = torch.tensor(self.models[-1].forecast(lags))\n",
    "        print(np.argmax(np.abs(median_forecast), axis=1).shape)\n",
    "        median_forecast = median_forecast[np.argmax(np.abs(median_forecast), axis=1)]\n",
    "        return median_forecast"
   ]
  },
  {
   "cell_type": "code",
   "execution_count": 112,
   "metadata": {},
   "outputs": [
    {
     "name": "stdout",
     "output_type": "stream",
     "text": [
      "Training Random Forest with n_estimators=10000 and max_features=0.10 ...\n",
      "torch.Size([920])\n"
     ]
    },
    {
     "ename": "RuntimeError",
     "evalue": "The size of tensor a (4) must match the size of tensor b (920) at non-singleton dimension 1",
     "output_type": "error",
     "traceback": [
      "\u001b[0;31m---------------------------------------------------------------------------\u001b[0m",
      "\u001b[0;31mRuntimeError\u001b[0m                              Traceback (most recent call last)",
      "Cell \u001b[0;32mIn[112], line 19\u001b[0m\n\u001b[1;32m     16\u001b[0m plt\u001b[39m.\u001b[39msubplots_adjust(wspace\u001b[39m=\u001b[39m \u001b[39m0.25\u001b[39m, hspace\u001b[39m=\u001b[39m \u001b[39m0.25\u001b[39m)\n\u001b[1;32m     18\u001b[0m sub1 \u001b[39m=\u001b[39m fig\u001b[39m.\u001b[39madd_subplot(\u001b[39m2\u001b[39m,\u001b[39m2\u001b[39m,(\u001b[39m1\u001b[39m,\u001b[39m2\u001b[39m))\n\u001b[0;32m---> 19\u001b[0m mixed_model\u001b[39m.\u001b[39;49mtest(train_lags, train_target, n_periods)\n\u001b[1;32m     20\u001b[0m sub1\u001b[39m.\u001b[39mplot(train_dates, np\u001b[39m.\u001b[39mcumsum(mixed_model\u001b[39m.\u001b[39mlog_returns))\n\u001b[1;32m     21\u001b[0m sub1\u001b[39m.\u001b[39mplot(train_dates, np\u001b[39m.\u001b[39mcumsum(train_target\u001b[39m.\u001b[39mto(\u001b[39m'\u001b[39m\u001b[39mcpu\u001b[39m\u001b[39m'\u001b[39m)))\n",
      "File \u001b[0;32m~/Desktop/MA3/ML/ML_project_2/notebooks/../src/models.py:203\u001b[0m, in \u001b[0;36mEnsemble.test\u001b[0;34m(self, lags, target, n_periods)\u001b[0m\n\u001b[1;32m    202\u001b[0m \u001b[39mdef\u001b[39;00m \u001b[39mtest\u001b[39m(\u001b[39mself\u001b[39m, lags, target, n_periods):\n\u001b[0;32m--> 203\u001b[0m     \u001b[39mself\u001b[39m\u001b[39m.\u001b[39mlog_returns \u001b[39m=\u001b[39m get_log_returns(\u001b[39mself\u001b[39;49m, lags, target)\n\u001b[1;32m    204\u001b[0m     \u001b[39mself\u001b[39m\u001b[39m.\u001b[39mreturns \u001b[39m=\u001b[39m get_returns(\u001b[39mself\u001b[39m, lags, target)\n\u001b[1;32m    205\u001b[0m     \u001b[39mself\u001b[39m\u001b[39m.\u001b[39mhit_rate \u001b[39m=\u001b[39m compute_hit_rate(\u001b[39mself\u001b[39m, lags, target)\n",
      "File \u001b[0;32m~/Desktop/MA3/ML/ML_project_2/notebooks/../src/trading_utils.py:12\u001b[0m, in \u001b[0;36mget_log_returns\u001b[0;34m(model, lags, target, rf)\u001b[0m\n\u001b[1;32m     10\u001b[0m output \u001b[39m=\u001b[39m model\u001b[39m.\u001b[39mforecast(lags)\n\u001b[1;32m     11\u001b[0m output \u001b[39m=\u001b[39m torch\u001b[39m.\u001b[39mTensor(output)\n\u001b[0;32m---> 12\u001b[0m \u001b[39mreturn\u001b[39;00m (output\u001b[39m.\u001b[39;49msign() \u001b[39m*\u001b[39;49m target)\u001b[39m.\u001b[39mdetach()\u001b[39m.\u001b[39mto(\u001b[39m'\u001b[39m\u001b[39mcpu\u001b[39m\u001b[39m'\u001b[39m)\u001b[39m.\u001b[39mnumpy()\n",
      "\u001b[0;31mRuntimeError\u001b[0m: The size of tensor a (4) must match the size of tensor b (920) at non-singleton dimension 1"
     ]
    },
    {
     "data": {
      "image/png": "[encoded data removed]",
      "text/plain": [
       "<Figure size 900x600 with 1 Axes>"
      ]
     },
     "metadata": {},
     "output_type": "display_data"
    }
   ],
   "source": [
    "train_lags, train_target, train_dates = load_processed_data(DATASET, partition='train')\n",
    "val_lags, val_target, val_dates = load_processed_data(DATASET, partition='val')\n",
    "test_lags, test_target, test_dates = load_processed_data(DATASET, partition='test')\n",
    "\n",
    "# Define number of periods per year to compute performance metrics:\n",
    "if DATASET in ['BTC-USD', 'ETH-USD', 'XRP-USD']:\n",
    "    n_periods = 365\n",
    "else:\n",
    "    n_periods = 252\n",
    "\n",
    "mixed_model = MixedTypeEnsemble(train_lags, train_target)\n",
    "\n",
    "# Plot cumulative sum of model's log-returns:\n",
    "fig = plt.figure(figsize=(9, 6))\n",
    "#fig.suptitle('Performances of {} on {}'.format(model_type, dataset), fontsize=14)\n",
    "plt.subplots_adjust(wspace= 0.25, hspace= 0.25)\n",
    "\n",
    "sub1 = fig.add_subplot(2,2,(1,2))\n",
    "mixed_model.test(train_lags, train_target, n_periods)\n",
    "sub1.plot(train_dates, np.cumsum(mixed_model.log_returns))\n",
    "sub1.plot(train_dates, np.cumsum(train_target.to('cpu')))\n",
    "sub1.grid(True)\n",
    "sub1.set_ylabel('Cumulated log-performances')\n",
    "sub1.set_title('Train set')\n",
    "#sub1.legend([model_type, 'Baseline'], loc=\"upper left\")\n",
    "\n",
    "sub2 = fig.add_subplot(2,2,3)\n",
    "mixed_model.test(val_lags, val_target, n_periods)\n",
    "sub2.plot(val_dates, np.cumsum(mixed_model.log_returns))\n",
    "sub2.plot(val_dates, np.cumsum(val_target).to('cpu'))\n",
    "sub2.tick_params(labelrotation=45)\n",
    "sub2.grid(True)\n",
    "sub2.set_ylabel('Cumulated log-performances')\n",
    "sub2.set_title('Validation set')\n",
    "\n",
    "sub3 = fig.add_subplot(2,2,4)\n",
    "mixed_model.test(test_lags, test_target, n_periods)\n",
    "sub3.plot(test_dates, np.cumsum(mixed_model.log_returns))\n",
    "sub3.plot(test_dates, np.cumsum(test_target.to('cpu')))\n",
    "sub3.tick_params(labelrotation=45)\n",
    "sub3.grid(True)\n",
    "sub3.set_title('Test set')\n",
    "\n",
    "plt.show()\n",
    "\n",
    "# Print trading performances on the test set:\n",
    "print('Combination 1 on {} test set achieves:'.format(DATASET))\n",
    "print('     Hit-rate: {:.3f}'.format(mixed_model.hit_rate))\n",
    "print('     Annualized sharpe ratio: {:.3f}'.format(mixed_model.sharpe))\n",
    "print('     Max drawdown: {:.3f}'.format(mixed_model.max_dd))"
   ]
  }
 ],
 "metadata": {
  "kernelspec": {
   "display_name": "ml_project_finance",
   "language": "python",
   "name": "python3"
  },
  "language_info": {
   "codemirror_mode": {
    "name": "ipython",
    "version": 3
   },
   "file_extension": ".py",
   "mimetype": "text/x-python",
   "name": "python",
   "nbconvert_exporter": "python",
   "pygments_lexer": "ipython3",
   "version": "3.10.8"
  },
  "orig_nbformat": 4,
  "vscode": {
   "interpreter": {
    "hash": "9b122b5f926bd79e7f0ee0e29aba8eb4c5cb49d416841110354c8050afe4fd2d"
   }
  }
 },
 "nbformat": 4,
 "nbformat_minor": 2
}
